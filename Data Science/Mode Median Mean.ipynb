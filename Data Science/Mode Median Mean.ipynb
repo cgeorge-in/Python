{
 "cells": [
  {
   "cell_type": "code",
   "execution_count": 5,
   "metadata": {},
   "outputs": [
    {
     "name": "stdout",
     "output_type": "stream",
     "text": [
      "Mean  7.0\n",
      "Mode  6\n",
      "Median  6.5\n"
     ]
    },
    {
     "data": {
      "image/png": "[encoded data removed]",
      "text/plain": [
       "<Figure size 432x288 with 1 Axes>"
      ]
     },
     "metadata": {
      "needs_background": "light"
     },
     "output_type": "display_data"
    }
   ],
   "source": [
    "#importing lib\n",
    "import numpy as np\n",
    "import matplotlib.pyplot as plt\n",
    "import pandas as pd\n",
    "#setting the numbers - y axis\n",
    "input_num=[10,12,3,4,5,6,6,7,8,9]\n",
    "#setting X axis- used range to generate the numbers\n",
    "x_axis=range(len(input_num))\n",
    "#calculating mean\n",
    "mean_num=sum(input_num)/len(input_num)\n",
    "print(\"Mean \",mean_num)\n",
    "#calculating mode\n",
    "mode=max(input_num,key = input_num.count)\n",
    "print(\"Mode \",mode)\n",
    "#calculating median\n",
    "median = np.median(input_num)\n",
    "print(\"Median \",median)\n",
    "#Plotting the graph\n",
    "import matplotlib.pyplot as plt\n",
    "plt.bar(x_axis, input_num, color ='orange', width = 0.5)\n",
    "plt.axvline(mean_num, color='r', linestyle='--', label=\"Mean\")\n",
    "plt.axvline(median, color='g', linestyle='-', label=\"Median\")\n",
    "plt.axvline(mode, color='b', linestyle='-', label=\"Mode\")\n",
    "plt.legend()\n",
    "#Adding the labels for the bar chart\n",
    "for i in range(len(input_num)):\n",
    "    plt.text(i,input_num[i],input_num[i],ha=\"center\",va=\"bottom\")\n",
    "plt.show()"
   ]
  },
  {
   "cell_type": "code",
   "execution_count": null,
   "metadata": {},
   "outputs": [],
   "source": []
  }
 ],
 "metadata": {
  "kernelspec": {
   "display_name": "Python 3",
   "language": "python",
   "name": "python3"
  },
  "language_info": {
   "codemirror_mode": {
    "name": "ipython",
    "version": 3
   },
   "file_extension": ".py",
   "mimetype": "text/x-python",
   "name": "python",
   "nbconvert_exporter": "python",
   "pygments_lexer": "ipython3",
   "version": "3.8.5"
  }
 },
 "nbformat": 4,
 "nbformat_minor": 4
}
